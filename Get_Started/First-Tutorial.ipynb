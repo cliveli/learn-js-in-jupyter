{
 "cells": [
  {
   "cell_type": "markdown",
   "metadata": {},
   "source": [
    "# 歡迎來到 Jupyter JS Notebook"
   ]
  },
  {
   "cell_type": "markdown",
   "metadata": {},
   "source": [
    "### 😎 嗨新朋友！這裡有三個小訣竅，一個錦囊\n",
    "\n",
    "1. 用方向鍵移動到 下一個 / 上一個 方格 (cell)\n",
    "2. 輸入 `shift-enter` 計算當下所在的方格 (cell)\n",
    "3. 輸入 `enter` 進入『編輯模式』，輸入 `Esc` 離開『編輯模式』（回到命令模式）\n",
    "\n",
    "錦囊：`ctrl-shift-p` 顯示『命令列視窗』，可以搜尋更多秘訣\n",
    "\n",
    "##### 試看看吧！"
   ]
  },
  {
   "cell_type": "code",
   "execution_count": null,
   "metadata": {},
   "outputs": [],
   "source": [
    "3 + 5  // 這是註解"
   ]
  },
  {
   "cell_type": "markdown",
   "metadata": {},
   "source": [
    "##### 非同步的輸出結果，要稍等一下喔！"
   ]
  },
  {
   "cell_type": "code",
   "execution_count": null,
   "metadata": {},
   "outputs": [],
   "source": [
    "setTimeout(function() {console.log(123)}, 1000)"
   ]
  },
  {
   "cell_type": "markdown",
   "metadata": {},
   "source": [
    "##### 支援 ES6  語法，像是 const, let, scope, template string"
   ]
  },
  {
   "cell_type": "code",
   "execution_count": null,
   "metadata": {},
   "outputs": [],
   "source": [
    "{\n",
    "    const me = 'Derek';\n",
    "    let age = 28;\n",
    "    console.log(`${me} is ${age} years old.`);\n",
    "}\n",
    "// console.log(me);  // this line throws error"
   ]
  },
  {
   "cell_type": "markdown",
   "metadata": {},
   "source": [
    "###### 方格裡也可以撰寫 Markdown 語法\n",
    "\n",
    "以下的 Markdown 語法可以轉成圖片\n",
    "\n",
    "`![some pic](./es6.svg)`\n",
    "\n",
    "![some pic](./es6.svg)"
   ]
  },
  {
   "cell_type": "markdown",
   "metadata": {},
   "source": [
    "### 小測試\n",
    "\n",
    "- 利用錦囊，找到指令『insert cell bellow』建立一個新的 cell\n",
    "- 利用錦囊，找到指令『delete cells』移除 cell\n",
    "- 你可以讓程式碼 cell 顯示行數嗎？"
   ]
  },
  {
   "cell_type": "markdown",
   "metadata": {},
   "source": [
    "---\n",
    "\n",
    "author: TC Liu <liuderchi@github>\n",
    "date: June 18th 2018\n",
    "\n",
    "---\n"
   ]
  }
 ],
 "metadata": {
  "kernelspec": {
   "display_name": "NodeJS",
   "language": "javascript",
   "name": "nodejs"
  },
  "language_info": {
   "codemirror_mode": "javascript",
   "file_extension": ".js",
   "mimetype": "text/javascript",
   "name": "nodejs",
   "pygments_lexer": "javascript",
   "version": "0.10"
  },
  "widgets": {
   "application/vnd.jupyter.widget-state+json": {
    "state": {},
    "version_major": 2,
    "version_minor": 0
   }
  }
 },
 "nbformat": 4,
 "nbformat_minor": 2
}
