{
 "cells": [
  {
   "cell_type": "markdown",
   "metadata": {},
   "source": [
    "# Demo how to inject iframe in gfm\n",
    "\n",
    "since in gfm `iframe` is sanitized by default\n",
    "\n",
    "So here is is a workaround to render iframe with React installed\n",
    "\n",
    "\n",
    "### Setup Env\n",
    "\n",
    "in the project directory in terminal, do\n",
    "\n",
    "`npm i -S react react-dom`\n",
    "\n",
    "### REF\n",
    "\n",
    "https://github.com/notablemind/jupyter-nodejs/issues/21#issuecomment-232047460\n"
   ]
  },
  {
   "cell_type": "code",
   "execution_count": null,
   "metadata": {},
   "outputs": [],
   "source": [
    "%load_ext babel"
   ]
  },
  {
   "cell_type": "code",
   "execution_count": null,
   "metadata": {},
   "outputs": [],
   "source": [
    "%%babel\n",
    "// define custom renderJsx() with built in `display` prvided by jupyter-nodejs\n",
    "import ReactDOM from 'react-dom/server.js';\n",
    "const renderJsx = jsx => display(ReactDOM.renderToStaticMarkup(jsx), 'text/html');"
   ]
  },
  {
   "cell_type": "code",
   "execution_count": null,
   "metadata": {},
   "outputs": [],
   "source": [
    "%%babel\n",
    "import React from 'react';\n",
    "renderJsx(<iframe src=\"https://codesandbox.io/embed/new?codemirror=1\" \n",
    "  style={{ width: '100%', height: '500px', border: 0, borderRadius: '4px', overflow: 'hidden' }}\n",
    "  sandbox=\"allow-modals allow-forms allow-popups allow-scripts allow-same-origin\"></iframe>\n",
    ");"
   ]
  }
 ],
 "metadata": {
  "kernelspec": {
   "display_name": "NodeJS",
   "language": "javascript",
   "name": "nodejs"
  },
  "language_info": {
   "codemirror_mode": "javascript",
   "file_extension": ".js",
   "mimetype": "text/javascript",
   "name": "nodejs",
   "pygments_lexer": "javascript",
   "version": "0.10"
  }
 },
 "nbformat": 4,
 "nbformat_minor": 2
}
