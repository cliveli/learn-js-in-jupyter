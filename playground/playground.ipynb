{
 "cells": [
  {
   "cell_type": "markdown",
   "metadata": {},
   "source": [
    "# 歡迎來到 Jupyter JS Notebook"
   ]
  },
  {
   "cell_type": "markdown",
   "metadata": {},
   "source": [
    "### 嗨新朋友！這裡有三個小訣竅，一個錦囊\n",
    "\n",
    "1. 用方向鍵移動到 下一個 / 上一個 方格 (cell)\n",
    "2. 輸入 `shift-enter` 計算當下所在的方格 (cell)\n",
    "3. 輸入 `enter` 進入『編輯模式』，輸入 Esc 離開『編輯模式』（回到命令模式）\n",
    "\n",
    "錦囊：`ctrl-shift-p` 顯示『命令列視窗』，可以搜尋更多秘訣\n",
    "\n",
    "##### 試看看吧！"
   ]
  },
  {
   "cell_type": "markdown",
   "metadata": {},
   "source": [
    "##### 非同步的輸出結果，要稍等一下喔！"
   ]
  },
  {
   "cell_type": "code",
   "execution_count": null,
   "metadata": {},
   "outputs": [],
   "source": [
    "{\n",
    "    const me = 'Derek';\n",
    "    let age = 28;\n",
    "    console.log(`${me} is ${age} years old.`);\n",
    "}\n",
    "// console.log(me);  // this line throws error"
   ]
  }
 ],
 "metadata": {
  "kernelspec": {
   "display_name": "NodeJS",
   "language": "javascript",
   "name": "nodejs"
  },
  "language_info": {
   "codemirror_mode": "javascript",
   "file_extension": ".js",
   "mimetype": "text/javascript",
   "name": "nodejs",
   "pygments_lexer": "javascript",
   "version": "0.10"
  },
  "widgets": {
   "application/vnd.jupyter.widget-state+json": {
    "state": {},
    "version_major": 2,
    "version_minor": 0
   }
  }
 },
 "nbformat": 4,
 "nbformat_minor": 2
}
