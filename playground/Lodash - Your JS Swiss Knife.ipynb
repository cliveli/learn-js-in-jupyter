{
 "cells": [
  {
   "cell_type": "markdown",
   "metadata": {},
   "source": [
    "# lodash - 你的 JavaScript 瑞士刀\n",
    "\n",
    "## META\n",
    "\n",
    "- ported from MYLAB repo\n",
    "- [ENV] node version: **7.x 以上**\n",
    "- [ENV] create a symbolink pointing to `node_modules` somewhere locally (avoid file sync)\n",
    "- LOG: 2017-08-09: created, 2017-08-31: refine shell tool"
   ]
  },
  {
   "cell_type": "markdown",
   "metadata": {},
   "source": [
    "### 前置作業 - 讀取工具函式"
   ]
  },
  {
   "cell_type": "code",
   "execution_count": null,
   "metadata": {},
   "outputs": [],
   "source": [
    "var shellCmd = (cmdStr, silent=false, waitMsg='💡 執行中...不要走開...', successMsg='✅ 執行成功', failMsg='⚠️ 指令失敗') => {var cmdProcess = require('child_process').exec(cmdStr); silent ? null : (console.log(waitMsg) || cmdProcess.stdout.on('data', data => console.log(data))); cmdProcess.on('close', code => code !== 0 ? console.log(`${failMsg}: \"${cmdStr}\" error code: ${code}`) : console.log(successMsg))}\n",
    "var log = (...args) => {console.log(...args); var BEEP = true; (BEEP || true) ? process.stdout.write('\\x07') : null}; log('✅ 執行成功')"
   ]
  },
  {
   "cell_type": "markdown",
   "metadata": {},
   "source": [
    "## 前置作業 - 安裝 lodash 模組"
   ]
  },
  {
   "cell_type": "code",
   "execution_count": null,
   "metadata": {},
   "outputs": [],
   "source": [
    "shellCmd('npm install lodash')"
   ]
  },
  {
   "cell_type": "markdown",
   "metadata": {},
   "source": [
    "#### 已經安裝過了？檢查你的 npm 套件清單"
   ]
  },
  {
   "cell_type": "code",
   "execution_count": null,
   "metadata": {},
   "outputs": [],
   "source": [
    "shellCmd('npm list --depth=0 2>/dev/null')"
   ]
  },
  {
   "cell_type": "markdown",
   "metadata": {},
   "source": [
    "## 前置作業 - 讀取 lodash 模組"
   ]
  },
  {
   "cell_type": "code",
   "execution_count": null,
   "metadata": {},
   "outputs": [],
   "source": [
    "var _ = require('lodash')"
   ]
  },
  {
   "cell_type": "markdown",
   "metadata": {},
   "source": [
    "### ==================================================================================="
   ]
  },
  {
   "cell_type": "markdown",
   "metadata": {},
   "source": [
    "### _.concat 可以把資料 \"接合\" 起來"
   ]
  },
  {
   "cell_type": "code",
   "execution_count": null,
   "metadata": {},
   "outputs": [],
   "source": [
    "var array = [1]\n",
    "var other = _.concat(array, 2, [3], [[4]])\n",
    "\n",
    "other"
   ]
  },
  {
   "cell_type": "markdown",
   "metadata": {},
   "source": [
    "### 接完之後，原本的材料不會改變"
   ]
  },
  {
   "cell_type": "code",
   "execution_count": null,
   "metadata": {},
   "outputs": [],
   "source": [
    "array"
   ]
  },
  {
   "cell_type": "markdown",
   "metadata": {},
   "source": [
    "### ==================================================================================="
   ]
  },
  {
   "cell_type": "markdown",
   "metadata": {},
   "source": [
    "## What is curry?"
   ]
  },
  {
   "cell_type": "code",
   "execution_count": null,
   "metadata": {},
   "outputs": [],
   "source": [
    "var abc = (a, b, c) => [a, b, c]\n",
    "\n",
    "var curried = _.curry(abc)\n",
    "\n",
    "log(curried(1)(2)(3))\n",
    "log(curried(1, 2)(3))\n",
    "log(curried(1, 2, 3))\n",
    "\n",
    "// Curried with placeholders.\n",
    "log(curried(1)(_, 3)(2))\n",
    "\n",
    "// curried with more placeholders\n",
    "log(curried(_, _, 3)(1)()(2))"
   ]
  },
  {
   "cell_type": "markdown",
   "metadata": {},
   "source": [
    "### 用 pick 抓取物件感興趣的屬性"
   ]
  },
  {
   "cell_type": "code",
   "execution_count": null,
   "metadata": {},
   "outputs": [],
   "source": [
    "{\n",
    "  let object = { 'a': 1, 'b': '2', 'c': 3 }\n",
    "\n",
    "  log(_.pick(object, ['a', 'c']))\n",
    "  log(_.pick(object, ['derek']))\n",
    "  log(_.pick(object, 'ivy'))\n",
    "\n",
    "  log(object)\n",
    "}"
   ]
  },
  {
   "cell_type": "markdown",
   "metadata": {},
   "source": [
    "### 和 pick 剛好相反，用 omit 忽略不要的物件屬性"
   ]
  },
  {
   "cell_type": "code",
   "execution_count": null,
   "metadata": {},
   "outputs": [],
   "source": [
    "{\n",
    "  let object = { 'a': 1, 'b': '2', 'c': 3 }\n",
    "  log(_.omit(object, ['a', 'c']))\n",
    "  log(object);\n",
    "}"
   ]
  },
  {
   "cell_type": "markdown",
   "metadata": {},
   "source": [
    "### 用 curry 搭配 pick 與 omit"
   ]
  },
  {
   "cell_type": "code",
   "execution_count": null,
   "metadata": {},
   "outputs": [],
   "source": [
    "{\n",
    "  let info = {\n",
    "    name: 'Derek Liu', age: 27, sex: 'male', married: false,\n",
    "  }\n",
    "\n",
    "  let myPick = (obj, paths) => _.pick(obj, paths)\n",
    "  let myOmit = (obj, paths) => _.omit(obj, paths)\n",
    "\n",
    "  let curriedPick = _.curry(myPick)\n",
    "  let curriedOmit = _.curry(myOmit)\n",
    "\n",
    "  log(\n",
    "    curriedOmit(_, ['married', 'sex'])\n",
    "      (curriedPick(_, ['name', 'age'])\n",
    "      (info))\n",
    "  )\n",
    "}"
   ]
  },
  {
   "cell_type": "markdown",
   "metadata": {},
   "source": [
    "### ==================================================================================="
   ]
  }
 ],
 "metadata": {
  "kernelspec": {
   "display_name": "NodeJS",
   "language": "javascript",
   "name": "nodejs"
  },
  "language_info": {
   "codemirror_mode": "javascript",
   "file_extension": ".js",
   "mimetype": "text/javascript",
   "name": "nodejs",
   "pygments_lexer": "javascript",
   "version": "0.10"
  }
 },
 "nbformat": 4,
 "nbformat_minor": 2
}
