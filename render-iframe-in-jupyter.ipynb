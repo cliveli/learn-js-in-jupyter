{
 "cells": [
  {
   "cell_type": "markdown",
   "metadata": {},
   "source": [
    "# Demo how to render iframe in jupyter\n",
    "\n",
    "⚠️ do it on your own risk ⚠️ \n",
    "\n",
    "\n",
    "since in gfm `iframe` is sanitized in juptyer by default\n",
    "\n",
    "So here is is a workaround to render iframe\n",
    "\n",
    "\n",
    "## Render `iframe` In Markdown cell\n",
    "\n",
    "0. taking [codesandbox embed](https://codesandbox.io/docs/embedding) as example\n",
    "(using [python tutor](http://www.pythontutor.com/) is also OK)\n",
    "\n",
    "1. run those js code in devtool console\n",
    "\n",
    "```js\n",
    "window.html4.ATTRIBS['iframe::src'] = 0\n",
    "window.html4.ATTRIBS['iframe::sandbox'] = 0  // especially for sandbox\n",
    "```\n",
    "\n",
    "2. following html \n",
    "\n",
    "```html\n",
    "<iframe src=\"https://codesandbox.io/embed/new?codemirror=1\" \n",
    "  style=\"width:100%; height:300px; border:0; border-radius: 4px; overflow:hidden;\"\n",
    "  sandbox=\"allow-modals allow-forms allow-popups allow-scripts allow-same-origin\">\n",
    "</iframe>\n",
    "```\n",
    "\n",
    "would results in\n",
    "\n",
    "\n",
    "<iframe src=\"https://codesandbox.io/embed/new?codemirror=1\" \n",
    "  style=\"width:100%; height:300px; border:0; border-radius: 4px; overflow:hidden;\"\n",
    "  sandbox=\"allow-modals allow-forms allow-popups allow-scripts allow-same-origin\"></iframe>\n",
    "\n",
    "\n",
    "## Render `iframe` in code cell\n",
    "\n",
    "\n",
    "### Setup Env\n",
    "\n",
    "in the project directory in terminal, do\n",
    "\n",
    "`npm i -S react react-dom`\n",
    "\n"
   ]
  },
  {
   "cell_type": "code",
   "execution_count": null,
   "metadata": {},
   "outputs": [],
   "source": [
    "%load_ext babel"
   ]
  },
  {
   "cell_type": "code",
   "execution_count": null,
   "metadata": {},
   "outputs": [],
   "source": [
    "%%babel\n",
    "// define custom renderJsx() with built in `display` prvided by jupyter-nodejs\n",
    "import ReactDOM from 'react-dom/server.js';\n",
    "const renderJsx = jsx => display(ReactDOM.renderToStaticMarkup(jsx), 'text/html');"
   ]
  },
  {
   "cell_type": "code",
   "execution_count": null,
   "metadata": {},
   "outputs": [],
   "source": [
    "%%babel\n",
    "import React from 'react';\n",
    "renderJsx(\n",
    "  <iframe src=\"https://codesandbox.io/embed/new?codemirror=1\" \n",
    "    style={{ width: '100%', height: '500px', border: 0, borderRadius: '4px', overflow: 'hidden' }}\n",
    "    sandbox=\"allow-modals allow-forms allow-popups allow-scripts allow-same-origin\">\n",
    "  </iframe>\n",
    ");"
   ]
  },
  {
   "cell_type": "markdown",
   "metadata": {},
   "source": [
    "### REF\n",
    "\n",
    "- https://github.com/notablemind/jupyter-nodejs/issues/21#issuecomment-232047460\n",
    "- [`static/base/js/security.js`](https://github.com/jupyter/notebook/blob/4e79ebb49acac722b37b03f1fe811e67590d3831/notebook/static/base/js/security.js#L135)"
   ]
  }
 ],
 "metadata": {
  "kernelspec": {
   "display_name": "NodeJS",
   "language": "javascript",
   "name": "nodejs"
  },
  "language_info": {
   "codemirror_mode": "javascript",
   "file_extension": ".js",
   "mimetype": "text/javascript",
   "name": "nodejs",
   "pygments_lexer": "javascript",
   "version": "0.10"
  }
 },
 "nbformat": 4,
 "nbformat_minor": 2
}
