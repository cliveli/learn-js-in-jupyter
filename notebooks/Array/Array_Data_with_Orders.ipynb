{
 "cells": [
  {
   "cell_type": "markdown",
   "metadata": {},
   "source": [
    "# 陣列：有順序的資料\n",
    "\n",
    "\n",
    "> 往下看之前，請先到瀏覽器開發工具輸入以下程式碼，讓 `iframe` 可以正常運作\n",
    "> ```js\n",
    "> window.html4.ATTRIBS['iframe::src'] = 0;\n",
    "> ```"
   ]
  },
  {
   "cell_type": "markdown",
   "metadata": {},
   "source": [
    "### 對陣列的頭尾做 新增/移除\n",
    "\n",
    "|                | `pop()`      | `push()`     | `shift()`        | `unshift()`          |\n",
    "|:--------------:|--------------|--------------|------------------|----------------------|\n",
    "| 新增還是移除？ | ➕            | ➖            | ➕                | ➖                    |\n",
    "| 位置           | 最後一個     | 最後一個     | 第一個           | 第一個               |\n",
    "| 比喻           | 疊起來的盤子放上一個 | 疊起來的盤子拿掉一個 | 排到你的時候被插隊 | 櫃檯處理完了排在第一個的人 |"
   ]
  },
  {
   "cell_type": "markdown",
   "metadata": {},
   "source": [
    "<!-- WIP more array prototype-->"
   ]
  },
  {
   "cell_type": "code",
   "execution_count": null,
   "metadata": {},
   "outputs": [],
   "source": []
  }
 ],
 "metadata": {
  "kernelspec": {
   "display_name": "NodeJS",
   "language": "javascript",
   "name": "nodejs"
  },
  "language_info": {
   "codemirror_mode": "javascript",
   "file_extension": ".js",
   "mimetype": "text/javascript",
   "name": "nodejs",
   "pygments_lexer": "javascript",
   "version": "0.10"
  }
 },
 "nbformat": 4,
 "nbformat_minor": 2
}
