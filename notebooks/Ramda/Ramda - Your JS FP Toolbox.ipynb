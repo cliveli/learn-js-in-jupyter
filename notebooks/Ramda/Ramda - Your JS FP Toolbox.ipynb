{
 "cells": [
  {
   "cell_type": "markdown",
   "metadata": {},
   "source": [
    "# Ramda - 你的函數化開發工具箱\n",
    "\n",
    "## META\n",
    "\n",
    "- LOG: 2017-08-09: created, 2017-08-31: refine shell tool, 2019-01-10: port to learn-js-in-jupyter"
   ]
  },
  {
   "cell_type": "markdown",
   "metadata": {},
   "source": [
    "### 前置作業 - 讀取 shell 指令工具"
   ]
  },
  {
   "cell_type": "code",
   "execution_count": null,
   "metadata": {
    "scrolled": true
   },
   "outputs": [],
   "source": [
    "// prettier-ignore\n",
    "var shellCmd = (cmdStr, silent=false, waitMsg='💡 執行中...不要走開...', successMsg='✅ 執行成功', failMsg='⚠️ 指令失敗') => {var cmdProcess = require('child_process').exec(cmdStr); silent ? null : (console.log(waitMsg) || cmdProcess.stdout.on('data', data => console.log(data))); cmdProcess.on('close', code => code !== 0 ? console.log(`${failMsg}: \"${cmdStr}\" error code: ${code}`) : console.log(successMsg))}\n",
    "// prettier-ignore\n",
    "var log = (...args) => {console.log(...args); var BEEP = true; (BEEP || true) ? process.stdout.write('\\x07') : null};\n",
    "log('✅ 執行成功');"
   ]
  },
  {
   "cell_type": "markdown",
   "metadata": {},
   "source": [
    "### 前置作業 - 安裝 ramda 模組"
   ]
  },
  {
   "cell_type": "code",
   "execution_count": null,
   "metadata": {
    "scrolled": true
   },
   "outputs": [],
   "source": [
    "shellCmd('npm install ramda');"
   ]
  },
  {
   "cell_type": "markdown",
   "metadata": {},
   "source": [
    "#### 已經安裝過了？檢查你的 npm 套件清單"
   ]
  },
  {
   "cell_type": "code",
   "execution_count": null,
   "metadata": {},
   "outputs": [],
   "source": [
    "shellCmd('npm list --depth=0 2>/dev/null');"
   ]
  },
  {
   "cell_type": "markdown",
   "metadata": {},
   "source": [
    "### 前置作業 - 讀取 ramda 模組"
   ]
  },
  {
   "cell_type": "code",
   "execution_count": null,
   "metadata": {},
   "outputs": [],
   "source": [
    "const R = require('ramda');"
   ]
  },
  {
   "cell_type": "markdown",
   "metadata": {},
   "source": [
    "---"
   ]
  },
  {
   "cell_type": "markdown",
   "metadata": {},
   "source": [
    "#### Review of [Thinking in Ramda](http://randycoulman.com/blog/categories/thinking-in-ramda/)"
   ]
  },
  {
   "cell_type": "markdown",
   "metadata": {},
   "source": [
    "#### Notes\n",
    "\n",
    "- JS function explaination: __Reusable piece of code__\n",
    "  - with zero or more inputs and outputs\n",
    "\n",
    "- this article will be _less academic_ to welcome more readers\n",
    "- Use ramda for example allow you do fp in JS in a _clean and elegant_ way\n",
    "\n",
    "- for js function being __pure__ is what we hope\n",
    "  - if pure then we can _derive_ expression like what we do in math class\n",
    "    - pure function in JS is function in math class: same input always result same output\n"
   ]
  },
  {
   "cell_type": "markdown",
   "metadata": {},
   "source": [
    "### I. Starts from Array prototype function\n",
    "\n",
    "- almost every array prototype function is available in Ramda\n",
    "- http://randycoulman.com/blog/2016/05/24/thinking-in-ramda-getting-started/"
   ]
  },
  {
   "cell_type": "markdown",
   "metadata": {},
   "source": [
    "#### `forEach()`: for loop in FP way"
   ]
  },
  {
   "cell_type": "code",
   "execution_count": null,
   "metadata": {},
   "outputs": [],
   "source": [
    "{\n",
    "  const scores = [50, 80, 90, 100];\n",
    "\n",
    "  R.forEach(value => console.log(value), scores); // return array\n",
    "  //   scores.forEach(value => console.log(value));  // JS built-in: returns undefined\n",
    "}"
   ]
  },
  {
   "cell_type": "markdown",
   "metadata": {},
   "source": [
    "#### `map()`: create new array with value transformation"
   ]
  },
  {
   "cell_type": "code",
   "execution_count": null,
   "metadata": {},
   "outputs": [],
   "source": [
    "{\n",
    "  const prices = [50, 80, 90, 100];\n",
    "\n",
    "  const discount = x => x * 0.8;\n",
    "  // function can be a variable,\n",
    "\n",
    "  // so function can be argument!\n",
    "  R.map(discount, prices);\n",
    "\n",
    "  // prices.map(discount);  // JS built-in\n",
    "}"
   ]
  },
  {
   "cell_type": "markdown",
   "metadata": {},
   "source": [
    "#### `filter()`, `reject()`: create new array to remove unwanted values"
   ]
  },
  {
   "cell_type": "code",
   "execution_count": null,
   "metadata": {},
   "outputs": [],
   "source": [
    "{\n",
    "  const scores = [50, 80, 90, 100];\n",
    "\n",
    "  const passTest = x => x > 60; // number => boolean\n",
    "\n",
    "  R.filter(passTest, scores);\n",
    "\n",
    "  // scores.filter(passTest);  // JS built-in\n",
    "}"
   ]
  },
  {
   "cell_type": "code",
   "execution_count": null,
   "metadata": {},
   "outputs": [],
   "source": [
    "{\n",
    "  const isEven = x => x % 2 === 0;\n",
    "  R.reject(isEven, [1, 2, 3, 4, 5]);\n",
    "}"
   ]
  },
  {
   "cell_type": "markdown",
   "metadata": {},
   "source": [
    "### II. Combining functions\n",
    "\n",
    "- 💡 pass functions to other functions\n",
    "- http://randycoulman.com/blog/2016/05/31/thinking-in-ramda-combining-functions/"
   ]
  },
  {
   "cell_type": "markdown",
   "metadata": {},
   "source": [
    "#### `complement()`: create new function where calculates __\"NOT\" value__ of original output"
   ]
  },
  {
   "cell_type": "code",
   "execution_count": null,
   "metadata": {},
   "outputs": [],
   "source": [
    "{\n",
    "  const isEven = x => x % 2 === 0;\n",
    "  const isOdd = R.complement(isEven);\n",
    "\n",
    "  R.find(isOdd, [1, 2, 3, 4, 5]);\n",
    "}"
   ]
  },
  {
   "cell_type": "markdown",
   "metadata": {},
   "source": [
    "#### `both()`, `either()`: create new function where calculates __\"AND\" value__, __\"OR\" value__ of original output"
   ]
  },
  {
   "cell_type": "code",
   "execution_count": null,
   "metadata": {},
   "outputs": [],
   "source": [
    "{\n",
    "  const customers = [\n",
    "    { age: 20, isMarried: true, gender: 'MALE' },\n",
    "    { age: 29, isMarried: false, gender: 'MALE' },\n",
    "    { age: 15, isMarried: false, gender: 'FEMALE' },\n",
    "  ];\n",
    "  const isTeenager = c => c.age <= 18;\n",
    "  const isFemale = c => c.gender === 'FEMALE';\n",
    "  const isMarried = c => c.isMarried === true;\n",
    "\n",
    "  const isFemaleTeenager = R.both(isFemale, isTeenager); // R.allPass([isFemale, isTeenager])\n",
    "  const isMarriedOrFemale = R.either(isMarried, isFemale); // R.anyPass([isMarried, isFemale])\n",
    "\n",
    "  log(customers.filter(isFemaleTeenager));\n",
    "  log(customers.filter(isMarriedOrFemale));\n",
    "}"
   ]
  },
  {
   "cell_type": "markdown",
   "metadata": {},
   "source": [
    "#### `pipe()`, `compose()`: run functions in sequence as one pipeline\n",
    "\n",
    "- 💡 Ramda 既然是 functional programming 工具箱，將零件 -- 函式 -- 組合成新的函式，絕對是常用且重要的功能\n",
    "- [`pipe`](pipe) 的行為是 **由左到右組合函式**，[`compose`][compose] 的行為相反，**是從右到左組合函式**\n",
    "- 換句話說，pipe, compose 都是 Higher order function（組合函式的函式，它的產出也是一個函式）\n",
    "\n",
    "[pipe]: http://ramdajs.com/docs/#pipe \"pipe\"\n",
    "[compose]: http://ramdajs.com/docs/#compose \"compose\""
   ]
  },
  {
   "cell_type": "code",
   "execution_count": null,
   "metadata": {},
   "outputs": [],
   "source": [
    "{\n",
    "  const multiplyTen = x => x * 10;\n",
    "  let adjustScore = R.pipe(\n",
    "    Math.sqrt,\n",
    "    multiplyTen,\n",
    "    Math.floor\n",
    "  );\n",
    "\n",
    "  log(adjustScore(80));\n",
    "\n",
    "  adjustScore = R.compose(\n",
    "    Math.floor,\n",
    "    multiplyTen,\n",
    "    Math.sqrt\n",
    "  );\n",
    "\n",
    "  log(adjustScore(88));\n",
    "}"
   ]
  },
  {
   "cell_type": "markdown",
   "metadata": {},
   "source": [
    "- 什麼時侯用 pipe? 什麼時候用 compose? \n",
    "  - 看情況，閱讀順序如果是左到右，就用 pipe，但是如果想要表現 nested 函式（`f(g(x))`），就用 compose"
   ]
  },
  {
   "cell_type": "markdown",
   "metadata": {},
   "source": [
    "### III. Partial Function\n",
    "\n",
    "- Reason: function itself can be passed around other functions\n",
    "  - sometimes we need _only part of it's arguments being set, not called too early_\n",
    "- `R.partial` creates new func with only partial args being set\n",
    "- `R.curry` creates new func that you can set args partially in `f(a)(b)` or `f(a,b)` style\n",
    "- http://randycoulman.com/blog/2016/06/07/thinking-in-ramda-partial-application/"
   ]
  },
  {
   "cell_type": "markdown",
   "metadata": {},
   "source": [
    "#### `partial()`, `curry()`: create new function with _partial arguments_ set"
   ]
  },
  {
   "cell_type": "code",
   "execution_count": null,
   "metadata": {},
   "outputs": [],
   "source": [
    "{\n",
    "  // 1. multiple args + R.partial\n",
    "  const scores = [50, 80, 90, 100];\n",
    "\n",
    "  let passTest = function(score, x) {\n",
    "    return x > score;\n",
    "  };\n",
    "  R.filter(R.partial(passTest, [80]), scores);\n",
    "}"
   ]
  },
  {
   "cell_type": "code",
   "execution_count": null,
   "metadata": {},
   "outputs": [],
   "source": [
    "{\n",
    "  // 2. Higher order function\n",
    "  const scores = [50, 80, 90, 100];\n",
    "\n",
    "  let passTest = function(score) {\n",
    "    return x => x > score;\n",
    "  };\n",
    "  passTest = score => x => x > score;\n",
    "  R.filter(passTest(80), scores);\n",
    "}"
   ]
  },
  {
   "cell_type": "code",
   "execution_count": null,
   "metadata": {},
   "outputs": [],
   "source": [
    "{\n",
    "  // 3. R.curry\n",
    "  const scores = [50, 80, 90, 100];\n",
    "\n",
    "  let passTest = function(score, x) {\n",
    "    return x > score;\n",
    "  };\n",
    "  passTest = R.curry(passTest); // curry a multiple args function\n",
    "\n",
    "  R.filter(passTest(90), scores);\n",
    "  /**\n",
    "   * NOTE using curried func needs 2 steps:\n",
    "   * 1. config (passing value to `score` arg)\n",
    "   * 2. call it (`passTest(90)` is a function applied to scores array)\n",
    "   */\n",
    "}"
   ]
  },
  {
   "cell_type": "markdown",
   "metadata": {},
   "source": [
    "#### `flip()`: create new function with _arguments in reversed order_"
   ]
  },
  {
   "cell_type": "code",
   "execution_count": null,
   "metadata": {},
   "outputs": [],
   "source": [
    "{\n",
    "  const scores = [50, 80, 90, 100];\n",
    "\n",
    "  const passTest = function(x, score) {\n",
    "    return x > score;\n",
    "  };\n",
    "  // NOTE if argument order is fixed, we use flip to reverse args\n",
    "  R.filter(R.curry(R.flip(passTest))(70), scores);\n",
    "}"
   ]
  },
  {
   "cell_type": "markdown",
   "metadata": {},
   "source": [
    "#### `__`: argument placeholder for curried function\n",
    "\n",
    "- `curry` + `__` : freely pre-assign argument(s) before a function is called\n",
    "- ⚠️ `__` works only for curried functions\n",
    "  - c.f. `partial`, `partialRight`, `flip` works on any function"
   ]
  },
  {
   "cell_type": "code",
   "execution_count": null,
   "metadata": {},
   "outputs": [],
   "source": [
    "{\n",
    "  const distanceToOrigin3D = R.curry((x, y, z) =>\n",
    "    Math.sqrt(x * x + y * y, +z * z)\n",
    "  );\n",
    "  const distanceToOrigin2D = distanceToOrigin3D(R.__, R.__, 0);\n",
    "  const distanceToOrigin1D = distanceToOrigin3D(R.__, 0, 0);\n",
    "\n",
    "  log(distanceToOrigin2D(3, 4));\n",
    "  log(distanceToOrigin1D(-20));\n",
    "}"
   ]
  },
  {
   "cell_type": "markdown",
   "metadata": {},
   "source": [
    "#### 💡 Almost every Ramda function is _Curried_\n",
    "\n",
    "- `R.filter(passTest, scores)` is equilavent to `R.filter(passTest)(scores)`\n",
    "- `R.filter(g, R.map(f, scores))` can be revied\n",
    "  - ➡ `R.filter(g)(R.map(f, scores))`\n",
    "  - ➡ `R.filter(g)(R.map(f)(scores))`\n",
    "  - ➡ `R.pipe(R.filter(g), R.map(f))(scores)`"
   ]
  },
  {
   "cell_type": "code",
   "execution_count": null,
   "metadata": {},
   "outputs": [],
   "source": [
    "{\n",
    "  // revisit 2. Higher order function with all Ramda tools\n",
    "  const scores = [50, 80, 90, 100];\n",
    "\n",
    "  const multiplyTen = x => x * 10;\n",
    "  const adjustScore = R.pipe(\n",
    "    Math.sqrt,\n",
    "    multiplyTen,\n",
    "    Math.floor\n",
    "  );\n",
    "\n",
    "  const passTest = function(x, score) {\n",
    "    return x > score;\n",
    "  };\n",
    "  const passTestCurried = R.curry((x, score) => x > score);\n",
    "  const passSixty = passTestCurried(R.__, 60);\n",
    "\n",
    "  R.pipe(\n",
    "    R.map(adjustScore),\n",
    "    R.filter(passSixty)\n",
    "  )(scores);\n",
    "}"
   ]
  },
  {
   "cell_type": "markdown",
   "metadata": {},
   "source": [
    "## __WIP__"
   ]
  },
  {
   "cell_type": "markdown",
   "metadata": {},
   "source": [
    "---"
   ]
  },
  {
   "cell_type": "markdown",
   "metadata": {},
   "source": [
    "## FAQ"
   ]
  },
  {
   "cell_type": "markdown",
   "metadata": {},
   "source": [
    "#### Q1 ❓Ramda 工具箱裡有多少工具可以用？"
   ]
  },
  {
   "cell_type": "code",
   "execution_count": null,
   "metadata": {},
   "outputs": [],
   "source": [
    "log(`💡Ramda 有 ${Object.keys(R).length} 個函式可以用`);"
   ]
  },
  {
   "cell_type": "markdown",
   "metadata": {},
   "source": [
    "#### Ramda 官方文件將 Ramda 的 API 貼上標籤分類，包含了\n",
    "\n",
    "* `Math`\n",
    "* `Logic`\n",
    "* `Type` (變數類型判斷)\n",
    "* `Relation` (變數之間的比較)\n",
    "* `List`\n",
    "* `Object`\n",
    "* `Function`"
   ]
  },
  {
   "cell_type": "markdown",
   "metadata": {},
   "source": [
    "_NOTE_ magic words e.g. `% env`, `% bash` is not working in `jupyter-nodejs`\n",
    "Those examples are not working:\n",
    "\n",
    "```jupyter\n",
    "\n",
    "%%bash\n",
    "pwd\n",
    "```\n",
    "\n",
    "```jupyter\n",
    "\n",
    "%%HTML\n",
    "<a href=\"https://www.google.com\">Google Link</a>\n",
    "```"
   ]
  },
  {
   "cell_type": "markdown",
   "metadata": {},
   "source": [
    "## === TODO: more intro"
   ]
  },
  {
   "cell_type": "markdown",
   "metadata": {},
   "source": [
    "---"
   ]
  },
  {
   "cell_type": "markdown",
   "metadata": {},
   "source": [
    "### `pipe()` 函式的串接組合"
   ]
  },
  {
   "cell_type": "markdown",
   "metadata": {},
   "source": []
  },
  {
   "cell_type": "code",
   "execution_count": null,
   "metadata": {},
   "outputs": [],
   "source": [
    "var f = R.pipe(\n",
    "  Math.pow,\n",
    "  R.negate,\n",
    "  R.inc\n",
    ");\n",
    "\n",
    "f(3, 4); // -(3^4) + 1"
   ]
  },
  {
   "cell_type": "markdown",
   "metadata": {},
   "source": [
    "可以注意到，這裡的例子有包括了一個 JavaScript 原生的函式 `Math.pow`"
   ]
  },
  {
   "cell_type": "code",
   "execution_count": null,
   "metadata": {},
   "outputs": [],
   "source": [
    "// Demo ERROR use case: has non-unary function\n",
    "var f = R.pipe(\n",
    "  R.negate,\n",
    "  R.inc,\n",
    "  Math.pow\n",
    ");\n",
    "\n",
    "f(9); // null"
   ]
  },
  {
   "cell_type": "markdown",
   "metadata": {},
   "source": [
    "## === TODO top 20 to intro\n",
    "\n",
    "pipe\n",
    "always\n",
    "prop\n",
    "path\n",
    "equals\n",
    "assoc\n",
    "isNil\n",
    "find\n",
    "ifElse\n",
    "cond\n",
    "contains\n",
    "identity\n",
    "pathOr\n",
    "map\n",
    "T\n",
    "head\n",
    "isEmpty\n",
    "pick\n",
    "assocPath\n",
    "compose"
   ]
  },
  {
   "cell_type": "markdown",
   "metadata": {},
   "source": [
    "### [邏輯] 用 ifElse 執行判斷"
   ]
  },
  {
   "cell_type": "markdown",
   "metadata": {},
   "source": [
    "### 用 pipe 把函式的流程串起來"
   ]
  },
  {
   "cell_type": "markdown",
   "metadata": {},
   "source": [
    "### [物件相關] path, pick, omit, over"
   ]
  },
  {
   "cell_type": "markdown",
   "metadata": {},
   "source": [
    "### [通用] nthArg() 抓第幾個參數"
   ]
  },
  {
   "cell_type": "code",
   "execution_count": null,
   "metadata": {},
   "outputs": [],
   "source": [
    "/*\n",
    "empty()\n",
    "a -> a\n",
    "\n",
    "Returns the empty value of its argument's type.\n",
    "Ramda defines the empty value of\n",
    "Array ([]), Object ({}), String (''), and Arguments.\n",
    "\n",
    "Other types are supported if they define <Type>.empty and/or <Type>.prototype.empty.\n",
    "\n",
    "Dispatches to the empty method of the first argument, if present.\n",
    "*/\n",
    "\n",
    "// console.log(R.empty(Just(42)))\n",
    "//=> Nothing()\n",
    "console.log(R.empty([1, 2, 3]));\n",
    "//=> []\n",
    "console.log(R.empty('unicorns'));\n",
    "//=> ''\n",
    "console.log(R.empty({ x: 1, y: 2 }));\n",
    "//=> {}\n",
    "console.log(R.empty(undefined));\n",
    "// => undefined\n",
    "console.log(R.empty(null));\n",
    "// => undefined"
   ]
  },
  {
   "cell_type": "code",
   "execution_count": null,
   "metadata": {},
   "outputs": [],
   "source": [
    "/*\n",
    "isEmpty()\n",
    "a -> boolean\n",
    "\n",
    "Returns true if the given value is its type's empty value; false otherwise.\n",
    "\n",
    "[], {}, ''\n",
    "*/\n",
    "\n",
    "console.log('testing isEmpty()\\n');\n",
    "\n",
    "console.log(R.isEmpty([1, 2, 3]));\n",
    "//=> false\n",
    "console.log(R.isEmpty([]));\n",
    "//=> true\n",
    "console.log(R.isEmpty(''));\n",
    "//=> true\n",
    "console.log(R.isEmpty(null));\n",
    "//=> false\n",
    "console.log(R.isEmpty({}));\n",
    "//=> true\n",
    "console.log(R.isEmpty({ length: 0 }));\n",
    "//=> false\n",
    "console.log(R.isEmpty(undefined));\n",
    "// => false NOTE not returning result"
   ]
  },
  {
   "cell_type": "code",
   "execution_count": null,
   "metadata": {},
   "outputs": [],
   "source": [
    "// test some api of ramda\n",
    "\n",
    "const demoCurry = (() => {\n",
    "  const addFourNumbers = (a, b, c, d) => a + b + c + d;\n",
    "\n",
    "  const curriedAddFourNumbers = R.curry(addFourNumbers);\n",
    "  const f = curriedAddFourNumbers(1, 2);\n",
    "  const g = f(3);\n",
    "  const res = g(4); //=> 10\n",
    "\n",
    "  console.log(res);\n",
    "  // console.log(res());  // NOTE error\n",
    "\n",
    "  const curriedMultiplyFourNumbers = R.curry((w, x, y, z) => w * x * y * z);\n",
    "  console.log(curriedMultiplyFourNumbers(1, 2)(4)(8)); // 64\n",
    "})();\n",
    "\n",
    "const demoPipe_Match = (() => {\n",
    "  // left-to-right compose\n",
    "  const fn = R.pipe(\n",
    "    R.match(/\\/static/g),\n",
    "    R.isEmpty\n",
    "  );\n",
    "  console.log(fn(''));\n",
    "\n",
    "  // match is a curried function\n",
    "  console.log(String(R.match(/\\/static/g)));\n",
    "  console.log(String(R.match));\n",
    "\n",
    "  console.log(R.match(/\\/foo/)('/foo'));\n",
    "  console.log(R.match()('foo')('foooo'));\n",
    "})();\n",
    "\n",
    "const demoProp_isEmpty = (() => {\n",
    "  // replace prop\n",
    "  console.log(R.prop()('xx')()({ xx: 100 }));\n",
    "  console.log(R.prop('xx', { xx: 100 }));\n",
    "  console.log(R.isEmpty()()()(''));\n",
    "})();"
   ]
  },
  {
   "cell_type": "markdown",
   "metadata": {},
   "source": [
    "\n",
    "\n",
    "\n",
    "\n",
    "## ====================== WORKSPACE ========================"
   ]
  },
  {
   "cell_type": "code",
   "execution_count": null,
   "metadata": {},
   "outputs": [],
   "source": [
    "Object.keys(R).forEach(x => console.log(x));"
   ]
  },
  {
   "cell_type": "code",
   "execution_count": null,
   "metadata": {},
   "outputs": [],
   "source": []
  }
 ],
 "metadata": {
  "kernelspec": {
   "display_name": "Javascript (Node.js)",
   "language": "javascript",
   "name": "javascript"
  },
  "language_info": {
   "file_extension": ".js",
   "mimetype": "application/javascript",
   "name": "javascript",
   "version": "10.9.0"
  }
 },
 "nbformat": 4,
 "nbformat_minor": 2
}
