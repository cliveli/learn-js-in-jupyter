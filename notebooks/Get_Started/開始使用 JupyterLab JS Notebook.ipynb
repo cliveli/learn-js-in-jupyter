{
 "cells": [
  {
   "cell_type": "markdown",
   "metadata": {},
   "source": [
    "# 開始使用 JupyterLab JS Notebook"
   ]
  },
  {
   "cell_type": "markdown",
   "metadata": {},
   "source": [
    "### 😎 嗨新朋友！送給你實用的三個小訣竅，一個錦囊：\n",
    "\n",
    "> 1. 用方向鍵移動到 下一個 / 上一個 方格 (cell)\n",
    "\n",
    "> 2. 輸入 `shift-enter` 計算當下所在的方格 (cell)\n",
    "\n",
    "> 3. 輸入 `enter` 進入『編輯模式』，輸入 `Esc` 離開『編輯模式』（回到命令模式）\n",
    "\n",
    "#### 💡錦囊：點選左側的 Commands 標籤頁，會顯示「命令列視窗」，可以搜尋更多指令。\n",
    "\n",
    "##### 試看看吧！使用 `shift-enter` 一路往下閱讀！"
   ]
  },
  {
   "cell_type": "code",
   "execution_count": null,
   "metadata": {},
   "outputs": [],
   "source": [
    "3 + 5; // 這是註解"
   ]
  },
  {
   "cell_type": "markdown",
   "metadata": {},
   "source": [
    "##### 非同步的輸出結果，要稍等一下喔！"
   ]
  },
  {
   "cell_type": "code",
   "execution_count": null,
   "metadata": {},
   "outputs": [],
   "source": [
    "setTimeout(function() {\n",
    "  console.log(123);\n",
    "}, 1000);\n",
    "console.log('Wait a second...');"
   ]
  },
  {
   "cell_type": "markdown",
   "metadata": {},
   "source": [
    "##### 支援 ES6  語法，像是 const, let, scope, template string"
   ]
  },
  {
   "cell_type": "code",
   "execution_count": null,
   "metadata": {},
   "outputs": [],
   "source": [
    "{\n",
    "  const me = 'Derek';\n",
    "  let age = 28;\n",
    "  console.log(`${me} is ${age} years old.`);\n",
    "}\n",
    "// console.log(me);  // this line throws error"
   ]
  },
  {
   "cell_type": "markdown",
   "metadata": {},
   "source": [
    "#### 方格裡也可以撰寫 Markdown 語法\n",
    "\n",
    "以下的 Markdown 語法可以轉成圖片\n",
    "\n",
    "`![some pic](./jupyter.png)`\n",
    "\n",
    "![some pic](./jupyter.png)"
   ]
  },
  {
   "cell_type": "markdown",
   "metadata": {},
   "source": [
    "#### 插入 `iframe` (只限於舊版的 Jupyter Notebook)\n",
    "\n",
    "為了能夠展示來自其他網站的 `iframe`，我們要手動執行一些操作解除安全限制\n",
    "\n",
    "1. 在瀏覽器開發者工具中輸入以下程式碼\n",
    "\n",
    "```js\n",
    "window.html4.ATTRIBS['iframe::src'] = 0;\n",
    "window.html4.ATTRIBS['iframe::sandbox'] = 0;\n",
    "```\n",
    "\n",
    "2. 輸入\n",
    "\n",
    "```html\n",
    "<iframe src=\"https://codesandbox.io/embed/new?codemirror=1\" style=\"width:100%; height:400px; border:0; border-radius: 4px; overflow:hidden;\" sandbox=\"allow-modals allow-forms allow-popups allow-scripts allow-same-origin\"></iframe>\n",
    "```\n",
    "\n",
    "\n",
    "<iframe src=\"https://codesandbox.io/embed/new?codemirror=1\" style=\"width:100%; height:400px; border:0; border-radius: 4px; overflow:hidden;\" sandbox=\"allow-modals allow-forms allow-popups allow-scripts allow-same-origin\"></iframe>"
   ]
  },
  {
   "cell_type": "markdown",
   "metadata": {},
   "source": [
    "#### 客製化 notebook 設置\n",
    "\n",
    "例如，你可能會想調整 code cell 的縮排為 4 個字元\n",
    "\n",
    "你可以在上方選單中找到「Settins > Advanced Settings Editor > 設定分頁中的 Notebook 選項」，\n",
    "\n",
    "並在右側輸入以下的值：\n",
    "\n",
    "\n",
    "```js\n",
    "{\n",
    "  \"codeCellConfig\": {\n",
    "    \"tabSize\": 2\n",
    "  }\n",
    "}\n",
    "```\n",
    "\n",
    "回到 Notebook，測試一下是否縮排真的變動了呢？\n",
    "\n",
    "\n",
    "另外，設定頁中也顯示了更多客製化選項可以參考"
   ]
  },
  {
   "cell_type": "markdown",
   "metadata": {},
   "source": [
    "### 🏋️‍ 小練習\n",
    "\n",
    "- 利用錦囊，找到指令「insert cell bellow」建立一個新的 cell\n",
    "- 利用錦囊，找到指令「delete cells」移除 cell\n",
    "- 你可以將程式碼 cell 轉換為顯示 markdown 的 cell 嗎？\n",
    "- 你可以讓程式碼 cell 顯示行數嗎？"
   ]
  },
  {
   "cell_type": "markdown",
   "metadata": {},
   "source": [
    "---\n",
    "\n",
    "author: TC Liu <liuderchi@github>\n",
    "date: June 18th 2018\n",
    "\n",
    "---\n"
   ]
  },
  {
   "cell_type": "code",
   "execution_count": null,
   "metadata": {},
   "outputs": [],
   "source": []
  }
 ],
 "metadata": {
  "kernelspec": {
   "display_name": "Javascript (Node.js)",
   "language": "javascript",
   "name": "javascript"
  },
  "language_info": {
   "file_extension": ".js",
   "mimetype": "application/javascript",
   "name": "javascript",
   "version": "8.11.4"
  },
  "widgets": {
   "application/vnd.jupyter.widget-state+json": {
    "state": {},
    "version_major": 2,
    "version_minor": 0
   }
  }
 },
 "nbformat": 4,
 "nbformat_minor": 2
}
