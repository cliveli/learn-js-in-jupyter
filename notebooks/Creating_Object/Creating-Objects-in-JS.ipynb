{
 "cells": [
  {
   "cell_type": "markdown",
   "metadata": {},
   "source": [
    "# Creating Objects in JS"
   ]
  },
  {
   "cell_type": "markdown",
   "metadata": {},
   "source": [
    "> 有人說，JavaScript 之於 Java ，如同熱狗之於狗，老婆餅之於老婆...\n",
    "\n",
    "\n",
    "你可能會聽過有人持相反意見，說 JS 和 JavaScript 很像\n",
    "\n",
    "因為都有關鍵字 `new` 或是 `class`，也可以做繼承。\n",
    "\n",
    "\n",
    "那我們可以說 JS 是種 OOP 語言嗎？JS 的 `new` 在做什麼？`class` ，`extends` 到底在做什麼？\n",
    "\n",
    "🤔🤔🤔\n",
    "\n",
    "這篇文章會從最最基本的 `{}` 符號說起，一直到流行的 ES6 `class` 語法\n",
    "\n",
    "深入淺出的和你介紹「建立一個物件」在 JS 到底是怎麼一回事。"
   ]
  },
  {
   "cell_type": "code",
   "execution_count": null,
   "metadata": {},
   "outputs": [],
   "source": []
  },
  {
   "cell_type": "markdown",
   "metadata": {},
   "source": [
    "###### 比較 static method 和 prototype method\n",
    "\n",
    "1. 不同：在 method 裡面 `this` 指向的對象不同 (一個指向 instance, 一個指向 class)\n",
    "2. 不同：static method 可以不用 new 就可以用\n",
    "3. 相同：都可以被「繼承」"
   ]
  },
  {
   "cell_type": "code",
   "execution_count": null,
   "metadata": {},
   "outputs": [],
   "source": []
  }
 ],
 "metadata": {
  "kernelspec": {
   "display_name": "NodeJS",
   "language": "javascript",
   "name": "nodejs"
  },
  "language_info": {
   "codemirror_mode": "javascript",
   "file_extension": ".js",
   "mimetype": "text/javascript",
   "name": "nodejs",
   "pygments_lexer": "javascript",
   "version": "0.10"
  }
 },
 "nbformat": 4,
 "nbformat_minor": 2
}
