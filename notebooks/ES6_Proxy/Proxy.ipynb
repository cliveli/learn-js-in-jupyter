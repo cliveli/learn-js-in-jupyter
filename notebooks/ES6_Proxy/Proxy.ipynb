{
 "cells": [
  {
   "cell_type": "markdown",
   "metadata": {},
   "source": [
    "# Proxy - 物件的代理\n",
    "\n",
    "TODO INTRO"
   ]
  },
  {
   "cell_type": "code",
   "execution_count": null,
   "metadata": {},
   "outputs": [],
   "source": [
    "{\n",
    "  const obj = new Proxy(\n",
    "    {},\n",
    "    {\n",
    "      get(target, key, receiver) {\n",
    "        console.log(`getting ${key}!`);\n",
    "        return Reflect.get(target, key, receiver);\n",
    "      },\n",
    "      set(target, key, value, receiver) {\n",
    "        console.log(`setting ${key}!`);\n",
    "        return Reflect.set(target, key, value, receiver);\n",
    "      },\n",
    "    }\n",
    "  );\n",
    "\n",
    "  obj.count = 1; //  setting count!\n",
    "  ++obj.count;\n",
    "  //  getting count!\n",
    "  //  setting count!\n",
    "  //  2\n",
    "}"
   ]
  },
  {
   "cell_type": "markdown",
   "metadata": {},
   "source": [
    "## ❓ `Reflect` 是什麼?"
   ]
  },
  {
   "cell_type": "markdown",
   "metadata": {},
   "source": [
    "### Reference\n",
    "\n",
    "- [Proxy - ECMAScript 6 入門](http://es6.ruanyifeng.com/#docs/proxy)"
   ]
  },
  {
   "cell_type": "markdown",
   "metadata": {},
   "source": [
    "---\n",
    "\n",
    "author: TC Liu <liuderchi@github>\n",
    "date: Oct. 9th 2018\n",
    "\n",
    "---"
   ]
  }
 ],
 "metadata": {
  "kernelspec": {
   "display_name": "Javascript (Node.js)",
   "language": "javascript",
   "name": "javascript"
  },
  "language_info": {
   "file_extension": ".js",
   "mimetype": "application/javascript",
   "name": "javascript",
   "version": "10.9.0"
  }
 },
 "nbformat": 4,
 "nbformat_minor": 2
}
