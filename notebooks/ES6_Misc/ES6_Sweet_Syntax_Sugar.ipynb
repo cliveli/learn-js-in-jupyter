{
 "cells": [
  {
   "cell_type": "markdown",
   "metadata": {},
   "source": [
    "# ES6 甜美的語法糖\n",
    "\n",
    "ES6 提供了許多語法糖，對於開發者來說是一大福音\n",
    "這裡提供了一些常見的範例，讓我們來看看吧！"
   ]
  },
  {
   "cell_type": "markdown",
   "metadata": {},
   "source": [
    "## Arrow Function 箭頭函式\n",
    "\n",
    "> ```js\n",
    "> (x) => { return x * x }\n",
    "> ```"
   ]
  },
  {
   "cell_type": "markdown",
   "metadata": {},
   "source": [
    "箭頭函式用符號來取代 `function` 保留字建立函式\n",
    "大部份時候它可以完全取代 `function`。讀起來更簡潔。"
   ]
  },
  {
   "cell_type": "code",
   "execution_count": null,
   "metadata": {},
   "outputs": [],
   "source": [
    "{\n",
    "  var discount = price => {\n",
    "    return 0.8 * price;\n",
    "  };\n",
    "  console.log(discount(100));\n",
    "\n",
    "  var squareArea = x => x * x; // shorthand for single arg\n",
    "  console.log(squareArea(5));\n",
    "}"
   ]
  },
  {
   "cell_type": "markdown",
   "metadata": {},
   "source": [
    "## Template String 字串模板\n",
    "\n",
    "> ```js\n",
    "> `Hello ${person.name}`\n",
    "> ```"
   ]
  },
  {
   "cell_type": "markdown",
   "metadata": {},
   "source": [
    "當你需要把變數的值轉成字串並組合在一起時，Template String 可以提供好讀的語法"
   ]
  },
  {
   "cell_type": "code",
   "execution_count": null,
   "metadata": {},
   "outputs": [],
   "source": [
    "{\n",
    "  var product = {\n",
    "    name: 'mug',\n",
    "    price: 50,\n",
    "    color: 'blue',\n",
    "  };\n",
    "  console.log(`Now we have a ${product.color} ${product.name} on Sale.\n",
    "It's only ${product.price * 0.8} dollars.`);\n",
    "}"
   ]
  },
  {
   "cell_type": "markdown",
   "metadata": {},
   "source": [
    "## let, const 宣告變數\n",
    "\n",
    "> ```js\n",
    "> const PI = 3.14\n",
    "> let count = 5\n",
    "> ```\n",
    "\n",
    "\n",
    "不允許「重新賦值」的變數 -> `const`。 允許「重新賦值」的變數 -> `let`"
   ]
  },
  {
   "cell_type": "code",
   "execution_count": null,
   "metadata": {},
   "outputs": [],
   "source": [
    "{\n",
    "  const name = 'derek';\n",
    "  name = 'ivy';\n",
    "  // would it throw error?\n",
    "}"
   ]
  },
  {
   "cell_type": "markdown",
   "metadata": {},
   "source": [
    "但是你可以修改以 `let` 宣告的變數："
   ]
  },
  {
   "cell_type": "code",
   "execution_count": null,
   "metadata": {},
   "outputs": [],
   "source": [
    "{\n",
    "  let name = 'derek';\n",
    "  name = 'ivy';\n",
    "  console.log(name);\n",
    "}"
   ]
  },
  {
   "cell_type": "markdown",
   "metadata": {},
   "source": [
    "每個變數只能在「有效的作用範圍」內被讀取，這個區域也被稱作 Scope。\n",
    "\n",
    "我們用大括號來圍出一個 Scope。\n",
    "\n",
    "如果你存取的變數沒有出現在全域的作用範圍，執行就會拋錯。"
   ]
  },
  {
   "cell_type": "code",
   "execution_count": null,
   "metadata": {},
   "outputs": [],
   "source": [
    "{\n",
    "  const name = 'derek';\n",
    "}\n",
    "// ❓ would it throw error?\n",
    "console.log(name);"
   ]
  },
  {
   "cell_type": "markdown",
   "metadata": {},
   "source": [
    "> 一個 Scope 可以被更大的 Scope 包覆。\n",
    "\n",
    "當你存取一個變數時，JS 執行引擎會從當下的 Scope 來尋找變數，\n",
    "\n",
    "當下的 Scope 找不到的話，會往 Parent Scope 找。"
   ]
  },
  {
   "cell_type": "code",
   "execution_count": null,
   "metadata": {},
   "outputs": [],
   "source": [
    "{\n",
    "  let msg = 'parent scope';\n",
    "  {\n",
    "    let msg = 'child scope';\n",
    "    console.log(msg);\n",
    "    setTimeout(function() {\n",
    "      console.log(msg);\n",
    "    }, 1000);\n",
    "  }\n",
    "  console.log(msg);\n",
    "}"
   ]
  },
  {
   "cell_type": "markdown",
   "metadata": {},
   "source": [
    "從上面的例子可以看出，`console.log(msg)` 印出的值和「執行時所在的 Scope」有很大的關聯。\n",
    "\n",
    "我們可以形容 JS 是個「執行時很在意上下文」的語言。\n",
    "\n",
    "這個上下文和所謂的「語彙環境」(lexical environment)有關。\n",
    "\n",
    "\n",
    "之後有機會可以多點深入的討論。"
   ]
  },
  {
   "cell_type": "markdown",
   "metadata": {},
   "source": [
    "## Destruction 解構賦值\n",
    "\n",
    "\n",
    "> ```js\n",
    "> const { age, name } = person;\n",
    "> ```\n",
    "\n",
    "一行可以同時搞定「屬性取值」和「宣告變數」的超實用語法"
   ]
  },
  {
   "cell_type": "code",
   "execution_count": null,
   "metadata": {},
   "outputs": [],
   "source": [
    "{\n",
    "  const product = {\n",
    "    name: 'mug',\n",
    "    price: 50,\n",
    "    color: 'blue',\n",
    "  };\n",
    "\n",
    "  const { name: prodName, color, count = 0 } = product;\n",
    "\n",
    "  console.log(`we have ${count} ${color} ${prodName}`);\n",
    "}"
   ]
  },
  {
   "cell_type": "markdown",
   "metadata": {},
   "source": [
    "## Spread operator, Rest param 展開運算子與其餘參數\n",
    "\n",
    "\n",
    "> ```js\n",
    "> const person = { age: 28, ...otherInfo }\n",
    "> const numbers = [1, 2, ...rest]\n",
    "> greet(person, ...restArgs)\n",
    "> ```\n",
    "\n",
    "`...` 這個神奇的運算子，有兩種剛好方向相反的作用：\n",
    "\n",
    "1. 展開\n",
    "2. 收集剩下的部分"
   ]
  },
  {
   "cell_type": "markdown",
   "metadata": {},
   "source": [
    "❓要怎麼知道什麼時候是「展開」，什麼時候是「收集剩下的部分」呢？\n",
    "\n",
    "答案是，要根據運算子在表示式的角色而定。"
   ]
  },
  {
   "cell_type": "markdown",
   "metadata": {},
   "source": [
    "### 展開\n",
    "\n",
    "\n",
    "首先，讓我們看看展開的情況："
   ]
  },
  {
   "cell_type": "code",
   "execution_count": null,
   "metadata": {},
   "outputs": [],
   "source": [
    "// spread an array to cancat\n",
    "{\n",
    "  const rest = [3, 4, 5];\n",
    "  const countToFive = [1, 2, ...rest];\n",
    "  console.log(countToFive);\n",
    "}"
   ]
  },
  {
   "cell_type": "code",
   "execution_count": null,
   "metadata": {},
   "outputs": [],
   "source": [
    "// spread an array to pass arguments\n",
    "{\n",
    "  const dateFields = [2018, 6, 28]; // 28 July 2018\n",
    "  const d = new Date(...dateFields);\n",
    "  console.log(d);\n",
    "}"
   ]
  },
  {
   "cell_type": "code",
   "execution_count": null,
   "metadata": {},
   "outputs": [],
   "source": [
    "// spread an object to extend fields\n",
    "{\n",
    "  const student = {\n",
    "    name: 'derek',\n",
    "  };\n",
    "  const otherInfo = {\n",
    "    height: 175,\n",
    "    weight: 70,\n",
    "  };\n",
    "  const completeStudent = {\n",
    "    ...student,\n",
    "    ...otherInfo,\n",
    "  };\n",
    "  completeStudent;\n",
    "}"
   ]
  },
  {
   "cell_type": "markdown",
   "metadata": {},
   "source": [
    "❓以上的例子有什麼共同點呢？\n",
    "\n",
    "> 可以注意到 `...` 此時都作用在賦值表達式中「等號的右側」，代表將變數展開作為使用。"
   ]
  },
  {
   "cell_type": "markdown",
   "metadata": {},
   "source": [
    "另外，我們可以利用 `...` 的展開功能，來輕鬆地實現「陣列複製」和「物件淺複製」："
   ]
  },
  {
   "cell_type": "code",
   "execution_count": null,
   "metadata": {},
   "outputs": [],
   "source": [
    "// copy an array\n",
    "{\n",
    "  const numbers = [1, 2, 3, 4, 8];\n",
    "  const copiedNum = [...numbers];\n",
    "\n",
    "  console.log(numbers === copiedNum);\n",
    "  console.log(copiedNum);\n",
    "}\n",
    "\n",
    "// copy an object\n",
    "{\n",
    "  const product = {\n",
    "    name: 'mug',\n",
    "    price: 50,\n",
    "  };\n",
    "  const copiedProd = {\n",
    "    ...product,\n",
    "  };\n",
    "\n",
    "  console.log(product === copiedProd);\n",
    "  console.log(copiedProd);\n",
    "}"
   ]
  },
  {
   "cell_type": "markdown",
   "metadata": {},
   "source": [
    "---"
   ]
  },
  {
   "cell_type": "markdown",
   "metadata": {},
   "source": [
    "### 收集剩餘\n",
    "\n",
    "接著，讓我們看看另一種「收集剩下部分」的用法："
   ]
  },
  {
   "cell_type": "code",
   "execution_count": null,
   "metadata": {},
   "outputs": [],
   "source": [
    "{\n",
    "  const weekDays = ['Mon', 'Tue', 'Wed', 'Thu', 'Fri'];\n",
    "  const [firstDay, secondDay, ...restDays] = weekDays;\n",
    "\n",
    "  console.log(secondDay);\n",
    "  console.log(restDays);\n",
    "}"
   ]
  },
  {
   "cell_type": "code",
   "execution_count": null,
   "metadata": {},
   "outputs": [],
   "source": [
    "// get rest key-value pairs object\n",
    "{\n",
    "  data = {\n",
    "    name: 'derek',\n",
    "    age: 28,\n",
    "    gender: 'male',\n",
    "  };\n",
    "\n",
    "  const { name, ...otherInfo } = data;\n",
    "\n",
    "  console.log(`hello ${name}`);\n",
    "  console.log(otherInfo);\n",
    "}"
   ]
  },
  {
   "cell_type": "code",
   "execution_count": null,
   "metadata": {},
   "outputs": [],
   "source": [
    "// get rest arguments array\n",
    "{\n",
    "  const getInfo = (name, ...args) => console.log(name, args);\n",
    "  getInfo('derek', 28, { color: 'purple' });\n",
    "\n",
    "  // ⚠️ bad syntax\n",
    "  //   const badFunc = (...args, x) => {console.log(args)}\n",
    "}"
   ]
  },
  {
   "cell_type": "markdown",
   "metadata": {},
   "source": [
    "可以注意到，以「收集剩下部分」的用法來說，`...` 會出現在兩種情況：\n",
    "\n",
    "1. 賦值表示式的左方，蒐集物件剩下的鍵值對，或是陣列尾部剩下的子陣列\n",
    "2. 函式參數中，蒐集剩餘部分的參數，以陣列表示"
   ]
  },
  {
   "cell_type": "markdown",
   "metadata": {},
   "source": [
    "❓另外整理一下，在以上兩種情況下，要怎麼看出 `...x` 此時被作用的 `x` 是陣列還是物件呢？\n",
    "\n",
    "> 在大括號 `{...x}` 裡，運算子作用的變數就是物件\n",
    "\n",
    "> 在中括號 `[...x]` 或函式參數裡 `f(...x)`，運算子作用的變數就是陣列"
   ]
  },
  {
   "cell_type": "markdown",
   "metadata": {},
   "source": [
    "## 結語\n",
    "\n",
    "ES6 提供的語法糖，無疑大幅幫助了 JavaScript 開發體驗，我們可以用更精簡的語法來表現程式邏輯。\n",
    "\n",
    "我們可以寫出更安全，更好維護的程式碼。現代的開發者真的很幸福！\n",
    "\n",
    "這裡介紹的 ES6 語法只是擷取常見的一部分，如果要了解更多，請點選下方的參考連結。\n",
    "\n",
    "除了 ES6, 現代 JavaScript 仍然不斷演進，\n",
    "維護語言標準的技術委員會 [TC39](https://tc39.github.io/ecma262/) 仍持續接受新語法的提案，\n",
    "\n",
    "歡迎各讀者持續關注這個技術委員會，期待 JavaScript 能夠持續蓬勃發展。"
   ]
  },
  {
   "cell_type": "markdown",
   "metadata": {},
   "source": [
    "## 練習\n",
    "\n",
    "接下來是一些範例，請盡量利用 ES6 語法來完成需求"
   ]
  },
  {
   "cell_type": "code",
   "execution_count": null,
   "metadata": {},
   "outputs": [],
   "source": [
    "// Euler Project Problem #1 - Multiples of 3 and 5\n",
    "// https://projecteuler.net/problem=1\n",
    "// If we list all the natural numbers below 10 that are multiples of 3 or 5, we get 3, 5, 6 and 9. The sum of these multiples is 23.\n",
    "// Find the sum of all the multiples of 3 or 5 below 1000.\n",
    "{\n",
    "  function findSumOfMultiples(x) {\n",
    "    // code here\n",
    "  }\n",
    "  // Tests:\n",
    "  assert(findSumOfMultiples(10) === 23);\n",
    "  assert(findSumOfMultiples(100) === 2318);\n",
    "  assert(findSumOfMultiples(1000) === 233168);\n",
    "\n",
    "  // Bonus: let 3 or 5 as arguments; extends it to findSumOfMultiplesOf(numbers, x)\n",
    "  // where numbers is array of natural numbers\n",
    "  // Hint: Array.some, edge case of 1\n",
    "\n",
    "  // const findSumOfMultiplesOf = (numbers, x) => {\n",
    "  //     // code here\n",
    "  // }\n",
    "  // Tests:\n",
    "  // assert(findSumOfMultiplesOf([3, 5], 10) === 23);\n",
    "  // assert(findSumOfMultiplesOf([3, 5], 1000) === 233168);\n",
    "  // assert(findSumOfMultiplesOf([1], 10) === 45);\n",
    "}"
   ]
  },
  {
   "cell_type": "code",
   "execution_count": null,
   "metadata": {},
   "outputs": [],
   "source": [
    "{\n",
    "  // refactor toCamelCase() with ES6 https://stackoverflow.com/a/35976812/1618628\n",
    "  function toCamelCase(str) {\n",
    "    return str\n",
    "      .trim()\n",
    "      .split(' ')\n",
    "      .map(function(word, index) {\n",
    "        // If it is the first word make sure to lowercase all the chars.\n",
    "        if (index == 0) {\n",
    "          return word.toLowerCase();\n",
    "        }\n",
    "        // If it is not the first word only upper case the first char and lowercase the rest.\n",
    "        return word.charAt(0).toUpperCase() + word.slice(1).toLowerCase();\n",
    "      })\n",
    "      .join('');\n",
    "  }\n",
    "  // Tests\n",
    "  assert(toCamelCase('hi hi ') === 'hiHi');\n",
    "  assert(toCamelCase(' Good bye') === 'goodBye');\n",
    "  assert(\n",
    "    toCamelCase('an apple a day keeps a doctor away') ===\n",
    "      'anAppleADayKeepsADoctorAway'\n",
    "  );\n",
    "}"
   ]
  },
  {
   "cell_type": "markdown",
   "metadata": {},
   "source": [
    "---"
   ]
  },
  {
   "cell_type": "markdown",
   "metadata": {},
   "source": [
    "### Reference\n",
    "\n",
    "- [Babel](https://babeljs.io/repl/)\n",
    "- [ES6 標準入門](http://es6.ruanyifeng.com/)\n",
    "- [展開運算子與其餘參數](http://eddychang.me/blog/16-javascript/45-spread-operator-rest-parameters.html)"
   ]
  },
  {
   "cell_type": "markdown",
   "metadata": {},
   "source": [
    "---\n",
    "\n",
    "author: TC Liu <liuderchi@github>\n",
    "date: June 18th 2018\n",
    "\n",
    "---"
   ]
  },
  {
   "cell_type": "code",
   "execution_count": null,
   "metadata": {},
   "outputs": [],
   "source": []
  }
 ],
 "metadata": {
  "kernelspec": {
   "display_name": "Javascript (Node.js)",
   "language": "javascript",
   "name": "javascript"
  },
  "language_info": {
   "file_extension": ".js",
   "mimetype": "application/javascript",
   "name": "javascript",
   "version": "10.9.0"
  }
 },
 "nbformat": 4,
 "nbformat_minor": 2
}
