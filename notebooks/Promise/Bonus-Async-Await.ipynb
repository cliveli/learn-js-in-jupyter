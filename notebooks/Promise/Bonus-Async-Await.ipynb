{
 "cells": [
  {
   "cell_type": "markdown",
   "metadata": {},
   "source": [
    "# Bonus - `async` 與 `await` 的用法\n",
    "\n",
    "經過了上一篇文章關於 Promise 的介紹後，\n",
    "\n",
    "讓我們來打鐵趁熱，做一點延伸，介紹 `async` 和 `await` 這兩個語法吧！"
   ]
  },
  {
   "cell_type": "code",
   "execution_count": null,
   "metadata": {},
   "outputs": [],
   "source": [
    "// 前置作業\n",
    "// prettier-ignore\n",
    "var shellCmd = (cmdStr,silent = false,waitMsg = '💡 執行中...不要走開...',successMsg = '✅ 執行成功',failMsg = '⚠️ 指令失敗') => {var cmdProcess = require('child_process').exec(cmdStr);silent ? null : console.log(waitMsg) || cmdProcess.stdout.on('data', data => console.log(data));cmdProcess.on('close', code => code !== 0 ? console.log(`${failMsg}: \"${cmdStr}\" error code: ${code}`):console.log(successMsg));};\n",
    "// prettier-ignore\n",
    "var log = (...args) => {console.log(...args);var BEEP = true;BEEP || true ? process.stdout.write('\\x07'):null;};\n",
    "\n",
    "shellCmd('npm install node-fetch');"
   ]
  },
  {
   "cell_type": "markdown",
   "metadata": {},
   "source": [
    "## `await` 用法\n",
    "\n",
    "從開發者的角度來說，`await` 其實就是一個操作 Promise 物件時可以使用的語法糖\n",
    "\n",
    "我們可以藉由 await 語法，來取代以往的「`.then(...)` 搭配 _回呼函式_」來處理 Promise 操作的結果。\n",
    "\n",
    "首先，讓我們複習一下上次介紹的非同步請求 Promise。其中 `myFetch` 就是個 Promise 物件："
   ]
  },
  {
   "cell_type": "markdown",
   "metadata": {},
   "source": [
    "首先，輸入 `node-fetch` 套件，宣告發送 HTTP 請求 Promise 的函式 `fetchJson`"
   ]
  },
  {
   "cell_type": "code",
   "execution_count": null,
   "metadata": {},
   "outputs": [],
   "source": [
    "var fetch = require('node-fetch'); // require $ npm i -S node-fetch\n",
    "var fetchJson = url => fetch(url).then(resp => resp.json());"
   ]
  },
  {
   "cell_type": "markdown",
   "metadata": {},
   "source": [
    "接著，來看看使用 Prmoise 的範例："
   ]
  },
  {
   "cell_type": "code",
   "execution_count": null,
   "metadata": {},
   "outputs": [],
   "source": [
    "// demo 1: use promise (previous example)\n",
    "\n",
    "var demo1 = function() {\n",
    "  console.log('🚀 fetching data ...');\n",
    "\n",
    "  var myFetch = fetchJson('https://api.github.com/users/github');\n",
    "\n",
    "  myFetch.then(function(data) {\n",
    "    console.warn({ login: data.login, name: data.name });\n",
    "\n",
    "    console.log('✅ fetch complete');\n",
    "  });\n",
    "};\n",
    "\n",
    "demo1();"
   ]
  },
  {
   "cell_type": "markdown",
   "metadata": {},
   "source": [
    "可以看到，我們如果要取得 Promise 非同步操作完成後的值，一定要使用 `.then(...)` 來完成\n",
    "\n",
    "而我們也可以使用 `await` 語法，讀起來更為直觀："
   ]
  },
  {
   "cell_type": "code",
   "execution_count": null,
   "metadata": {},
   "outputs": [],
   "source": [
    "// demo 2: use await\n",
    "\n",
    "var demo2 = async function() {\n",
    "  console.log('🚀 fetching data ...');\n",
    "\n",
    "  var data = await fetchJson('https://api.github.com/users/github');\n",
    "\n",
    "  console.warn({ login: data.login, name: data.name });\n",
    "\n",
    "  console.log('✅ fetch complete');\n",
    "};\n",
    "\n",
    "demo2();"
   ]
  },
  {
   "cell_type": "markdown",
   "metadata": {},
   "source": [
    "你覺得第二個例子讀起來給你的感覺如何？\n",
    "\n",
    "有覺得它讀起來很像是「同步」的程式，順序維持從上到下呢？\n",
    "\n",
    "`await` 語法運作起來像是「等待」後面接續的 Promise 物件執行完，\n",
    "\n",
    "將其 resolve 後得到的值作為表達式的回傳值，就這裡來說就是賦值給 `data`。"
   ]
  },
  {
   "cell_type": "markdown",
   "metadata": {},
   "source": [
    "### 關於 `await` 語法的二三事\n",
    "\n",
    "`await` 語法使用上，有幾個特別情況要注意：\n",
    "\n",
    "1. `await` 語法也可以接續不是 Promise 的值，該值就會作為表達式的回傳值\n",
    "\n",
    "  也就是說，這樣寫是合法的:  `console.log(await 5);   // 5`\n",
    "\n",
    "2. 如果 `await` 所接續的 Promise 執行失敗會怎麼辦（rejection）？\n",
    "\n",
    "  該 Promise 失敗產生的值，會作為錯誤被拋出（throw）。\n",
    "  \n",
    "  所以我們常會使用 `try{...} catch()` 語句來搭配 `await` 處理錯誤"
   ]
  },
  {
   "cell_type": "code",
   "execution_count": null,
   "metadata": {},
   "outputs": [],
   "source": [
    "// demo 3: try catch with await\n",
    "\n",
    "var demo3 = async function() {\n",
    "  console.log('🚀 fetching data ...');\n",
    "\n",
    "  try {\n",
    "    var data = await fetchJson('https://api.github.commmmmmmm');\n",
    "  } catch (err) {\n",
    "    console.log('❌ fetch failed');\n",
    "    console.error(err.code);\n",
    "  }\n",
    "};\n",
    "\n",
    "demo3();\n",
    "\n",
    "// console.log('demo 3 has started');"
   ]
  },
  {
   "cell_type": "markdown",
   "metadata": {},
   "source": [
    "### 等等，那 `async` 語法在做什麼？\n",
    "\n",
    "你有注意到一個細節嗎？上面的例子裡都有 `async` 這個關鍵字，但是我們還沒介紹它呢！\n",
    "\n",
    "`async` 這個語法專門用在宣告函式，告訴你「這個函式是個非同步函式」！\n",
    "\n",
    "為什麼要這樣做呢？其實這和 `await` 的行為有關。\n",
    "\n",
    "\n",
    "上面 `await` 的範例讀起來讓人感覺好像程式會暫停，等待 Promise 執行結束再繼續執行。\n",
    "\n",
    "但是其實 `await` 並不會讓主程式阻塞 (non-blocking)。\n",
    "\n",
    "也就是說，有使用 `await` 的函式，是非同步的，非阻塞的。\n",
    "\n",
    "\n",
    "所以當我們使用了 `await` 的同時，就必須宣告 `demo3` 函式是個非同步函式。\n",
    "\n",
    "想驗證的話，可以把上個範例程式的最後一行註解移除。你覺得結果會是如何呢？"
   ]
  },
  {
   "cell_type": "markdown",
   "metadata": {},
   "source": [
    "#### 參考資料\n",
    "\n",
    "- [MDN await](https://developer.mozilla.org/zh-TW/docs/Web/JavaScript/Reference/Operators/await)\n",
    "- [MDN async](https://developer.mozilla.org/zh-TW/docs/Web/JavaScript/Reference/Statements/async_function)\n",
    "- [異步函數 - 提高 Promise 的易用性](https://developers.google.com/web/fundamentals/primers/async-functions?hl=zh-tw)"
   ]
  },
  {
   "cell_type": "markdown",
   "metadata": {},
   "source": [
    "---\n",
    "\n",
    "author: TC Liu <liuderchi@github>\n",
    "date: Aug. 24 2018\n",
    "\n",
    "---"
   ]
  }
 ],
 "metadata": {
  "kernelspec": {
   "display_name": "Javascript (Node.js)",
   "language": "javascript",
   "name": "javascript"
  },
  "language_info": {
   "file_extension": ".js",
   "mimetype": "application/javascript",
   "name": "javascript",
   "version": "8.11.4"
  }
 },
 "nbformat": 4,
 "nbformat_minor": 2
}
