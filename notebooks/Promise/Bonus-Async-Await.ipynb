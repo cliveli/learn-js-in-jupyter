{
 "cells": [
  {
   "cell_type": "markdown",
   "metadata": {},
   "source": [
    "# Bonus - `async` 與 `await` 的用法\n",
    "\n",
    "經過了上一篇文章關於 Promise 的介紹後，\n",
    "\n",
    "讓我們來打鐵趁熱，做一點延伸，介紹 `async` 和 `await` 這兩個語法吧！"
   ]
  },
  {
   "cell_type": "code",
   "execution_count": null,
   "metadata": {},
   "outputs": [],
   "source": [
    "// 前置作業\n",
    "// prettier-ignore\n",
    "var shellCmd = (cmdStr,silent = false,waitMsg = '💡 執行中...不要走開...',successMsg = '✅ 執行成功',failMsg = '⚠️ 指令失敗') => {var cmdProcess = require('child_process').exec(cmdStr);silent ? null : console.log(waitMsg) || cmdProcess.stdout.on('data', data => console.log(data));cmdProcess.on('close', code => code !== 0 ? console.log(`${failMsg}: \"${cmdStr}\" error code: ${code}`):console.log(successMsg));};\n",
    "// prettier-ignore\n",
    "var log = (...args) => {console.log(...args);var BEEP = true;BEEP || true ? process.stdout.write('\\x07'):null;};\n",
    "\n",
    "shellCmd('npm install node-fetch');"
   ]
  },
  {
   "cell_type": "markdown",
   "metadata": {},
   "source": [
    "## `await` 用法\n",
    "\n",
    "從開發者的角度來說，`await` 其實就是一個操作 Promise 物件時可以使用的語法糖\n",
    "\n",
    "我們可以藉由 await 語法，來取代以往的「`.then(...)` 搭配 _回呼函式_」來處理 Promise 操作的結果。\n",
    "\n",
    "首先，讓我們複習一下上次介紹的非同步請求 Promise。其中 `myFetch` 就是個 Promise 物件："
   ]
  },
  {
   "cell_type": "markdown",
   "metadata": {},
   "source": [
    "首先，輸入 `node-fetch` 套件，宣告發送 HTTP 請求 Promise 的函式 `fetchJson`"
   ]
  },
  {
   "cell_type": "code",
   "execution_count": null,
   "metadata": {},
   "outputs": [],
   "source": [
    "var fetch = require('node-fetch'); // require $ npm i -S node-fetch\n",
    "var fetchJson = url => fetch(url).then(resp => resp.json());"
   ]
  },
  {
   "cell_type": "markdown",
   "metadata": {},
   "source": [
    "接著，來看看使用 Prmoise 的範例："
   ]
  },
  {
   "cell_type": "code",
   "execution_count": null,
   "metadata": {},
   "outputs": [],
   "source": [
    "// demo 1: use promise (previous example)\n",
    "\n",
    "var demo1 = function() {\n",
    "  console.log('🚀 fetching data ...');\n",
    "\n",
    "  var myFetch = fetchJson('https://api.github.com/users/github');\n",
    "\n",
    "  myFetch.then(function(data) {\n",
    "    console.warn({ login: data.login, name: data.name });\n",
    "\n",
    "    console.log('✅ fetch complete');\n",
    "  });\n",
    "};\n",
    "\n",
    "demo1();"
   ]
  },
  {
   "cell_type": "markdown",
   "metadata": {},
   "source": [
    "可以看到，我們如果要取得 Promise 非同步操作完成後的值，一定要使用 `.then(...)` 來完成\n",
    "\n",
    "而我們也可以使用 `await` 語法，讀起來更為直觀："
   ]
  },
  {
   "cell_type": "code",
   "execution_count": null,
   "metadata": {},
   "outputs": [],
   "source": [
    "// demo 2: use await\n",
    "\n",
    "var demo2 = async function() {\n",
    "  console.log('🚀 fetching data ...');\n",
    "\n",
    "  var data = await fetchJson('https://api.github.com/users/github');\n",
    "\n",
    "  console.warn({ login: data.login, name: data.name });\n",
    "\n",
    "  console.log('✅ fetch complete');\n",
    "};\n",
    "\n",
    "demo2();"
   ]
  },
  {
   "cell_type": "markdown",
   "metadata": {},
   "source": [
    "你覺得第二個例子讀起來給你的感覺如何？\n",
    "\n",
    "有覺得它讀起來很像是「同步」的程式，順序維持從上到下呢？"
   ]
  },
  {
   "cell_type": "code",
   "execution_count": null,
   "metadata": {},
   "outputs": [],
   "source": []
  }
 ],
 "metadata": {
  "kernelspec": {
   "display_name": "Javascript (Node.js)",
   "language": "javascript",
   "name": "javascript"
  },
  "language_info": {
   "file_extension": ".js",
   "mimetype": "application/javascript",
   "name": "javascript",
   "version": "8.11.4"
  }
 },
 "nbformat": 4,
 "nbformat_minor": 2
}
