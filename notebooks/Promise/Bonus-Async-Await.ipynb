{
 "cells": [
  {
   "cell_type": "markdown",
   "metadata": {},
   "source": [
    "# Bonus - `async` 與 `await` 的用法\n",
    "\n",
    "經過了上一篇文章關於 Promise 的介紹後，\n",
    "\n",
    "讓我們來打鐵趁熱，做一點延伸，介紹 `async` 和 `await` 這兩個語法吧！"
   ]
  },
  {
   "cell_type": "markdown",
   "metadata": {},
   "source": [
    "## `await` 用法\n",
    "\n",
    "從開發者的角度來說，`await` 其實就是一個使用 Promise 時會使用的語法糖\n",
    "\n",
    "首先讓我們複習一下上次介紹的非同步請求 Promise，其中 `myFetch` 就是個 Promise："
   ]
  },
  {
   "cell_type": "code",
   "execution_count": null,
   "metadata": {},
   "outputs": [],
   "source": [
    "var fetch = require('node-fetch'); // require $ npm i -S node-fetch\n",
    "var fetchJson = function(url) {\n",
    "  return fetch(url).then(function(resp) {\n",
    "    return resp.json();\n",
    "  });\n",
    "};\n",
    "\n",
    "var myFetch = fetchJson('https://api.github.com/users/github');\n",
    "myFetch.then(function(json) {\n",
    "  console.warn({ login: json.login, name: json.name });\n",
    "});\n",
    "\n",
    "console.log('fetching data ...');"
   ]
  },
  {
   "cell_type": "markdown",
   "metadata": {},
   "source": [
    "我們如果要取得 Promise 解決後的值，一定要使用 `.then(...)` 來完成\n",
    "\n",
    "而我們也可以使用 `await` 語法，讀起來更為直觀："
   ]
  },
  {
   "cell_type": "code",
   "execution_count": null,
   "metadata": {},
   "outputs": [],
   "source": [
    "// fetch, fetchJson is reused\n",
    "\n",
    "var demo = async function() {\n",
    "  console.log('fetching data ...');\n",
    "  var json = await fetchJson('https://api.github.com/users/github');\n",
    "  console.warn({ login: json.login, name: json.name });\n",
    "  console.log('fetch complete');\n",
    "};\n",
    "\n",
    "demo();"
   ]
  },
  {
   "cell_type": "code",
   "execution_count": null,
   "metadata": {},
   "outputs": [],
   "source": []
  }
 ],
 "metadata": {
  "kernelspec": {
   "display_name": "Javascript (Node.js)",
   "language": "javascript",
   "name": "javascript"
  },
  "language_info": {
   "file_extension": ".js",
   "mimetype": "application/javascript",
   "name": "javascript",
   "version": "8.11.4"
  }
 },
 "nbformat": 4,
 "nbformat_minor": 2
}
